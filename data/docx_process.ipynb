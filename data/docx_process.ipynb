{
 "cells": [
  {
   "cell_type": "code",
   "execution_count": null,
   "metadata": {},
   "outputs": [],
   "source": [
    "!pip install simplerllm"
   ]
  },
  {
   "cell_type": "code",
   "execution_count": 10,
   "metadata": {},
   "outputs": [
    {
     "name": "stdout",
     "output_type": "stream",
     "text": [
      "['Mẫu_Hơp_đồng_dich_vụ_an_ninh_.docx', 'Mẫu_Hơp_đồng_dich_vụ_bảo_quản_quản_lý_tài_sản.docx', 'Mẫu_Hơp_đồng_dich_vụ_chăm_sóc_sức_khỏe_song_ngữ.docx', 'Mẫu_Hơp_đồng_dich_vụ_pháp_lý_song_ngữ.docx', 'Mẫu_Hơp_đồng_giao_khoán.docx', 'Mẫu_Hợp_đồng_bảo_trì_bảo_dưỡng_khách_sạn.docx', 'Mẫu_Hợp_đồng_cam_kết_bảo_mật_thông_tin_và_chống_cạnh_tranh.docx', 'Mẫu_Hợp_đồng_cho_thuê_văn_phòng_song_ngữ.docx', 'Mẫu_Hợp_đồng_chuyển_giao_công_nghệ_Song_ngữ.docx', 'Mẫu_Hợp_đồng_chuyển_nhượng_cổ_phần.docx', 'Mẫu_Hợp_đồng_chuyển_nhượng_quyền_tác_giả.docx', 'Mẫu_Hợp_đồng_cung_cấp_dịch_vụ_thẩm_định_giá_tài_sản.docx', 'Mẫu_Hợp_đồng_cung_ứng_Dịch_vụ_Quốc_tế.docx', 'Mẫu_Hợp_đồng_cung_ứng_dịch_vụ_thanh_toán_ví_.docx', 'Mẫu_Hợp_đồng_cố_vấn_đầu_tư_song_ngữ_.docx', 'Mẫu_Hợp_đồng_dịch_vụ_bảo_trì_song_ngữ.docx', 'Mẫu_Hợp_đồng_dịch_vụ_marketing_trên_mạng_internet.docx', 'Mẫu_Hợp_đồng_dịch_vụ_quảng_cáo.docx', 'Mẫu_Hợp_đồng_dịch_vụ_quản_lý_tòa_nhà.docx', 'Mẫu_Hợp_đồng_dịch_vụ_thiết_kế_Website.docx', 'Mẫu_Hợp_đồng_dịch_vụ_tư_vấn_quản_lý_công_ty.docx', 'Mẫu_Hợp_đồng_gia_công_hàng_hóa.docx', 'Mẫu_Hợp_đồng_hợp_tác_góp_vốn_đầu_tư.docx', 'Mẫu_Hợp_đồng_hợp_tác_kinh_doanh.docx', 'Mẫu_Hợp_đồng_hợp_tác_kinh_doanh_thành_lập_doanh_nghiệp.docx', 'Mẫu_Hợp_đồng_kiểm_toán_.docx', 'Mẫu_Hợp_đồng_lao_động_song_ngữ.docx', 'Mẫu_Hợp_đồng_Li-xăng_HĐ_chuyển_giao_quyền_sử_dụng_nhãn_hiệu.docx', 'Mẫu_Hợp_đồng_mua_bán_hàng_hóa.docx', 'Mẫu_Hợp_đồng_mua_bán_hàng_hóa_song_ngữ.docx', 'Mẫu_Hợp_đồng_mua_bán_điện_của_Nhà_máy_thủy_điện_với_Công_ty_điện_lực.docx', 'Mẫu_Hợp_đồng_môi_giới_bất_động_sản.docx', 'Mẫu_Hợp_đồng_nguyên_tắc_về_việc_mua_bán_hàng_hóa.docx', 'Mẫu_Hợp_đồng_nhượng_quyền_thương_mại.docx', 'Mẫu_Hợp_đồng_phát_triển_phần_mềm_song_ngữ.docx', 'Mẫu_Hợp_đồng_phân_phối_hàng_hóa.docx', 'Mẫu_Hợp_đồng_sản_xuất_phần_mềm.docx', 'Mẫu_Hợp_đồng_thiết_kế_–_cung_cấp_thiết_bị_công_nghệ_và_thi_công_xây_dựng_công_trình.docx', 'Mẫu_Hợp_đồng_thuê_nhà_xưởng_song_ngữ.docx', 'Mẫu_Hợp_đồng_thuê_nhà_đất_thuê_bất_động_sản.docx', 'Mẫu_Hợp_đồng_thầu_phụ_xây_dựng.docx', 'Mẫu_Hợp_đồng_thế_chấp_cổ_phần_song_ngữ.docx', 'Mẫu_Hợp_đồng_tư_vấn_thiết_kế.docx', 'Mẫu_Hợp_đồng_vận_chuyển.docx', 'Mẫu_Hợp_đồng__vay_tiền_song_ngữ.docx', 'Mẫu_Hợp_đồng_Đại_diện_Thương_mại_Quốc_tế.docx', 'Mẫu_Hợp_đồng_đại_lý_phân_phối_hàng_hóa.docx', 'Mẫu_Hợp_đồng_ủy_quyền_sử_dụng_nhãn_hiệu.docx', 'Mẫu_Hợp_đồng_ủy_thác_nhập_khẩu.docx', 'Mẫu_Hợp_đồng_ủy_thác_xuất_khẩu.docx']\n"
     ]
    }
   ],
   "source": [
    "import os\n",
    "import docx\n",
    "from generate import InfoGenerator\n",
    "root = \"./docs\"\n",
    "\n",
    "print(files:=os.listdir(root))"
   ]
  },
  {
   "cell_type": "code",
   "execution_count": null,
   "metadata": {},
   "outputs": [
    {
     "name": "stdout",
     "output_type": "stream",
     "text": [
      "Mẫu_Hơp_đồng_dich_vụ_bảo_quản_quản_lý_tài_sản.docx\n",
      "Mẫu_Hơp_đồng_giao_khoán.docx\n",
      "Mẫu_Hợp_đồng_cung_cấp_dịch_vụ_thẩm_định_giá_tài_sản.docx\n",
      "Mẫu_Hợp_đồng_dịch_vụ_bảo_trì_song_ngữ.docx\n",
      "Mẫu_Hợp_đồng_dịch_vụ_marketing_trên_mạng_internet.docx\n",
      "Mẫu_Hợp_đồng_dịch_vụ_quảng_cáo.docx\n",
      "Mẫu_Hợp_đồng_hợp_tác_kinh_doanh_thành_lập_doanh_nghiệp.docx\n",
      "Mẫu_Hợp_đồng_nguyên_tắc_về_việc_mua_bán_hàng_hóa.docx\n",
      "Mẫu_Hợp_đồng_phát_triển_phần_mềm_song_ngữ.docx\n",
      "Mẫu_Hợp_đồng_thuê_nhà_xưởng_song_ngữ.docx\n",
      "Mẫu_Hợp_đồng_tư_vấn_thiết_kế.docx\n",
      "Mẫu_Hợp_đồng_vận_chuyển.docx\n",
      "Mẫu_Hợp_đồng_đại_lý_phân_phối_hàng_hóa.docx\n",
      "Mẫu_Hợp_đồng_ủy_thác_nhập_khẩu.docx\n",
      "Mẫu_Hợp_đồng_ủy_thác_xuất_khẩu.docx\n",
      "Mau_Hop_dong_uy_quyen_su_dung_nhan_hieu = \"\"\"\n",
      "CỘNG HÒA XÃ HỘI CHỦ NGHĨA VIỆT NAM\n",
      "Độc lập – Tự do – Hạnh phúc\n",
      "\n",
      "HỢP ĐỒNG ỦY QUYỀN SỬ DỤNG NHÃN HIỆU \n",
      "(Về việc: ủy quyền không hủy ngang sử dụng Nhãn Hiệu, Thương Hiệu:\t\t)\n",
      "\n",
      "Hôm nay, ngày \ttháng \t\t năm 2021, tại \t\t\t\t\t\t, chúng tôi ký tên dưới đây:\n",
      "BÊN ỦY QUYỀN (sau đây gọi là Bên A):\n",
      "\n",
      "\tHọ tên\t\t:\t\t\t\tSinh năm: \t\t\n",
      "\tCMND số\t: \t\t\t\tCấp ngày: \t/\t/\t \n",
      "\tNơi cấp\t: \t\t\t\t\n",
      "\tChức vụ\t: \n",
      "Là đại diện theo pháp luật của \t\t\t\t, một Công Ty được thành lập theo pháp luật Việt Nam, có mã số doanh nghiệp:\t\t\t; địa chỉ đăng ký trụ sở tại: \t\t\t\t (“Công Ty” và/hoặc “\t\t\t”).\n",
      "\n",
      "Bằng văn bản này, Bên A đồng ý ủy quyền toàn bộ, không hủy ngang cho:\n",
      "\n",
      "BÊN ĐƯỢC ỦY QUYỀN (sau đây gọi là Bên B):\n",
      "CÔNG TY\n",
      "Địa chỉ\t\t: \t\t\t\t\t\t\t\t\n",
      "Mã số thuế\t: \t\t\t\t\t\t\t\t\n",
      "Người đại diện: \t\t\t\t\t\t\t\t\n",
      "Chức vụ\t: \t\t\t\t\t\t\t\t   \n",
      "\n",
      "Với các nội dung & điều khoản sau:\n",
      "\n",
      "ĐIỀU 1. NỘI DUNG ỦY QUYỀN\n",
      "Trên cơ sở, Bên A là chủ đơn đang đăng ký sở hữu đối với nhãn hiệu \t\t (bao gồm hình và chữ theo thiết kế) theo mẫu nhãn hiệu được đăng ký tại tờ khai đăng ký nhãn hiệu số: \t\t\t, ngày \t\t\t và có quyết định chấp thuận đơn ngày \t\t\t\t\t của Cục Sở Hữu Trí Tuệ Việt Nam (“Nhãn Hiệu”). Đã được cấp giấy chứng nhận \t\t\t\t\n",
      "Bằng văn bản này, Bên A đồng ý ủy quyền cho Bên B được toàn quyền sử dụng, quyết định, định đoạt và/hoặc thay mặt, nhân danh Bên A để thực hiện các công việc có liên quan đến Nhãn Hiệu và các thương hiệu liên quan, theo đó Bên A đồng ý để:\n",
      "Được toàn quyền sử dụng, quyết định và đinh đoạt đối với Nhãn Hiệu của Bên A để kinh doanh, sản xuất sản phẩm hàng hóa, dịch vụ tương tự với nhóm hàng hóa, dịch vụ Bên A đã đăng ký cho Nhãn Hiệu nêu trên.\n",
      "Được quyền điều chỉnh, thay đổi Nhãn Hiệu để phù hợp với mục tiêu, mục đích kinh doanh của Bên B mà không cần sự đồng ý, chấp thuận trước của Bên A.\n",
      "Được quyền đăng ký điều chỉnh, bổ sung, thêm mới Nhãn Hiệu liên kết; được liên hệ với cá nhân, cơ quan, tổ chức để thực hiện các thủ tục cần thiết để Nhãn Hiệu được chấp thuận cấp giấy chứng nhận sở hữu trí tuệ theo quy định.\n",
      "Được toàn quyền sử dụng Nhãn Hiệu nêu trên mà không có bất kỳ cản trở, trở ngại hay bất kỳ chấp thuận nào khác từ Bên A.\n",
      "Trong phạm vi ủy quyền, Bên B được toàn quyền lập, ký kết, giao dịch, chuyển nhượng, mua bán và thực hiện tất cả các quyền tương tự như chủ sở hữu Nhãn Hiệu và được toàn quyền chủ động ủy quyền lại cho người thứ ba để thực hiện các công việc được uỷ quyền theo quy định tại Hợp đồng này. Việc ủy quyền lại không vượt quá phạm vi ủy quyền được quy định tại Khoản 1.2 Điều này. Bên B phải chịu trách nhiệm về các công việc do người được uỷ quyền lại thực hiện.\n",
      "\n",
      "ĐIỀU 2. THÙ LAO, CHI PHÍ: \n",
      "Các bên thống nhất Hợp đồng ủy quyền này là ủy quyền không thù lao.\n",
      "\n",
      "ĐIỀU 3. THỜI HẠN ỦY QUYỀN: \n",
      "Ủy quyền có hiệu lực kể từ ngày ký và có thời hạn ủy quyền là 15 (mười lăm) năm được tính kể từ ngày ký Hợp đồng này được ký kết hoặc gia hạn thêm tùy yêu cầu của Bên B. \n",
      "\n",
      "ĐIỀU 4. CAM ĐOAN CỦA CÁC BÊN:\n",
      "Bên A sau đây cam kết và bảo đảm rằng:\n",
      "Chưa ký bất kỳ một hợp đồng/văn bản uỷ quyền nào khác về nội dung uỷ quyền quy định Hợp đồng này với bất kỳ bên thứ ba nào khác ngoại trừ hợp đồng ủy quyền này;\n",
      "Bàn giao đầy đủ thông tin Nhãn Hiệu bao gồm nhưng không giới hạn Tờ Khai đăng ký nhãn hiệu; chấp thuận đơn và các văn bản có liên quan đến Nhãn Hiệu cho Bên B.\n",
      "Trong mọi trường hợp có yêu cầu, Bên A cam kết phải ký, lập, thực hiện đầy đủ các công việc và cung cấp đầy đủ các thông tin liên quan đến Nhãn Hiệu. Trường hợp vi phạm, Bên B có quyền áp dụng các chế tài có liên quan, bao gồm nhưng không giới hạn việc yêu cầu bồi thường thiệt hại cho Bên B nếu Bên A không phối hợp thực hiện.\n",
      "Cam kết Nhãn Hiệu ủy quyền cho Bên B là không vi phạm các quy định của pháp luật về sở hữu trí tuệ.\n",
      "Các cam kết các theo quy định tại Hợp đồng ủy quyền này.\n",
      "Bên B cam kết:\n",
      "Thực hiện đúng nội dung ủy quyền theo Hợp đồng này, tuân thủ quy định của pháp luật, điều lệ Công Ty và các quy định nội bộ khác (nếu có);\n",
      "Thông báo cho bên thứ ba về nội dung và phạm vi đại diện;\n",
      "Không thực hiện các công việc vi phạm điều cấm hoặc gây ảnh hưởng đến quyền và lợi ích của Bên A;\n",
      "Tự chịu trách nhiệm trước pháp luật và Khách hàng về các sản phẩm, hàng hóa, dịch vụ gắn liền với thương hiệu, nhãn hiệu được ủy quyền sử dụng theo Hợp đồng này.\n",
      "Không được phép tự ý chuyển giao, chuyển nhượng hoặc ủy quyền lại cho bên thứ ba bất kỳ mà chưa có sự đồng ý của Bên A.\n",
      "Miễn trừ cho Bên A mọi tranh chấp, khiếu nại, khiếu kiện hoặc rủi ro liên quan đến việc kinh doanh hàng hóa, dịch vụ mà Bên B cung cấp cho khách hàng có gắn liền với thương hiệu, nhãn hiệu được ủy quyền sử dụng theo Hợp đồng này.\n",
      "Việc sử dụng nhãn hiệu, thương hiệu phải đảm bảo trong phạm vi Hợp đồng này, các quy định của pháp luật có liên quan.\n",
      "Chịu trách nhiệm trước Bên A và pháp luật về toàn bộ nội dung công việc thực hiện;\n",
      "\n",
      "ĐIỀU 5: ĐIỀU KHOẢN CHUNG:\n",
      "Các nội dung trong ủy quyền này là không được hủy ngang dưới mọi hình thức bởi Bên A nếu không có sự đồng ý của Bên A. \n",
      "Mỗi Bên cam kết tự chịu trách nhiệm về việc ký kết Hợp đồng ủy quyền này và cam kết tuân thủ đầy đủ nội dung tại Hợp đồng ủy quyền này và các thỏa thuận có liên quan (nếu có).\n",
      "Hợp đồng ủy quyền này được lập thành 02 ( hai) bản chính, mỗi bên giữ 01 (một) bản chính có giá trị ngang nhau, để làm cơ sở thi hành.\n",
      "Mọi tranh chấp liên quan và/hoặc phát sinh từ Hợp Đồng này sẽ được bàn bạc giải quyết trên tinh thần thương lượng, hòa giải giữa Các Bên. Trong trường hợp không thể giải quyết thông qua thương lượng hòa giải, mỗi Bên có thể đưa tranh chấp ra để giải quyết tại Trung tâm Trọng tài Thương mại Miền Trung (MCAC) theo Quy tắc tố tụng trọng tài của Trung tâm này. Địa điểm tiến hành trọng tài tại thành phố Đà Nẵng. Ngôn ngữ dùng trong tố tụng trọng tài là tiếng Việt.  \n",
      "\n",
      "\n",
      "Mỗi Bên tự đọc, được nghe đọc lại và hiểu rõ các nội dung tại Hợp đồng ủy quyền này và đồng ý ký tên dưới đây\n",
      "\n",
      "\n",
      "CỦA \n",
      "Công Ty xác nhận đồng ý và chấp thuận thực hiện các nội dung sau: \n",
      "\"\"\"\n"
     ]
    }
   ],
   "source": [
    "gen = InfoGenerator()\n",
    "for file in files:\n",
    "    file_name = os.path.join(root, file)\n",
    "    try:\n",
    "        document = docx.Document(file_name)\n",
    "    except:\n",
    "        print(file)\n",
    "        continue\n",
    "    blank_file = \"\"\n",
    "\n",
    "    for p in document.paragraphs:\n",
    "        blank_file += p.text + \"\\n\"\n",
    "\n",
    "    content = f'''{gen.to_non_accent_vietnamese(file.split('.')[0])} = \"\"\"{blank_file}\"\"\"'''"
   ]
  },
  {
   "cell_type": "code",
   "execution_count": 11,
   "metadata": {},
   "outputs": [
    {
     "data": {
      "text/plain": [
       "50"
      ]
     },
     "execution_count": 11,
     "metadata": {},
     "output_type": "execute_result"
    }
   ],
   "source": [
    "len(files)"
   ]
  }
 ],
 "metadata": {
  "kernelspec": {
   "display_name": "Python 3",
   "language": "python",
   "name": "python3"
  },
  "language_info": {
   "codemirror_mode": {
    "name": "ipython",
    "version": 3
   },
   "file_extension": ".py",
   "mimetype": "text/x-python",
   "name": "python",
   "nbconvert_exporter": "python",
   "pygments_lexer": "ipython3",
   "version": "3.12.6"
  }
 },
 "nbformat": 4,
 "nbformat_minor": 2
}

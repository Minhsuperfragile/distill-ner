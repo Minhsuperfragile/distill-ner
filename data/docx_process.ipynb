{
 "cells": [
  {
   "cell_type": "code",
   "execution_count": 3,
   "metadata": {},
   "outputs": [
    {
     "name": "stdout",
     "output_type": "stream",
     "text": [
      "Collecting docx2txt\n",
      "  Downloading docx2txt-0.8.tar.gz (2.8 kB)\n",
      "  Preparing metadata (setup.py): started\n",
      "  Preparing metadata (setup.py): finished with status 'done'\n",
      "Building wheels for collected packages: docx2txt\n",
      "  Building wheel for docx2txt (setup.py): started"
     ]
    },
    {
     "name": "stdout",
     "output_type": "stream",
     "text": [
      "\n",
      "  Building wheel for docx2txt (setup.py): finished with status 'done'\n",
      "  Created wheel for docx2txt: filename=docx2txt-0.8-py3-none-any.whl size=3973 sha256=ef894341bcd4612bfdc9ba2964a674c8438e78126d9e01fc2a2dc0a8a9b1caaf\n",
      "  Stored in directory: c:\\users\\trong\\appdata\\local\\pip\\cache\\wheels\\6f\\81\\48\\001bbc0109c15e18c009eee300022f42d1e070e54f1d00b218\n",
      "Successfully built docx2txt\n",
      "Installing collected packages: docx2txt\n",
      "Successfully installed docx2txt-0.8\n"
     ]
    }
   ],
   "source": [
    "!pip install docx2txt"
   ]
  },
  {
   "cell_type": "code",
   "execution_count": 11,
   "metadata": {},
   "outputs": [
    {
     "name": "stdout",
     "output_type": "stream",
     "text": [
      "['Mẫu_Hơp_đồng_dich_vụ_an_ninh_.docx', 'Mẫu_Hơp_đồng_dich_vụ_bảo_quản_quản_lý_tài_sản.docx', 'Mẫu_Hơp_đồng_dich_vụ_chăm_sóc_sức_khỏe_song_ngữ.docx', 'Mẫu_Hơp_đồng_dich_vụ_pháp_lý_song_ngữ.docx', 'Mẫu_Hơp_đồng_giao_khoán.docx', 'Mẫu_Hợp_đồng_bảo_trì_bảo_dưỡng_khách_sạn.docx', 'Mẫu_Hợp_đồng_cam_kết_bảo_mật_thông_tin_và_chống_cạnh_tranh.docx', 'Mẫu_Hợp_đồng_cho_thuê_văn_phòng_song_ngữ.docx', 'Mẫu_Hợp_đồng_chuyển_giao_công_nghệ_Song_ngữ.docx', 'Mẫu_Hợp_đồng_chuyển_nhượng_cổ_phần.docx', 'Mẫu_Hợp_đồng_chuyển_nhượng_quyền_tác_giả.docx', 'Mẫu_Hợp_đồng_cung_cấp_dịch_vụ_thẩm_định_giá_tài_sản.docx', 'Mẫu_Hợp_đồng_cung_ứng_Dịch_vụ_Quốc_tế.docx', 'Mẫu_Hợp_đồng_cung_ứng_dịch_vụ_thanh_toán_ví_.docx', 'Mẫu_Hợp_đồng_cố_vấn_đầu_tư_song_ngữ_.docx', 'Mẫu_Hợp_đồng_dịch_vụ_bảo_trì_song_ngữ.docx', 'Mẫu_Hợp_đồng_dịch_vụ_marketing_trên_mạng_internet.docx', 'Mẫu_Hợp_đồng_dịch_vụ_quảng_cáo.docx', 'Mẫu_Hợp_đồng_dịch_vụ_quản_lý_tòa_nhà.docx', 'Mẫu_Hợp_đồng_dịch_vụ_thiết_kế_Website.docx', 'Mẫu_Hợp_đồng_dịch_vụ_tư_vấn_quản_lý_công_ty.docx', 'Mẫu_Hợp_đồng_gia_công_hàng_hóa.docx', 'Mẫu_Hợp_đồng_hợp_tác_góp_vốn_đầu_tư.docx', 'Mẫu_Hợp_đồng_hợp_tác_kinh_doanh.docx', 'Mẫu_Hợp_đồng_hợp_tác_kinh_doanh_thành_lập_doanh_nghiệp.docx', 'Mẫu_Hợp_đồng_kiểm_toán_.docx', 'Mẫu_Hợp_đồng_lao_động_song_ngữ.docx', 'Mẫu_Hợp_đồng_Li-xăng_HĐ_chuyển_giao_quyền_sử_dụng_nhãn_hiệu.docx', 'Mẫu_Hợp_đồng_mua_bán_hàng_hóa.docx', 'Mẫu_Hợp_đồng_mua_bán_hàng_hóa_song_ngữ.docx', 'Mẫu_Hợp_đồng_mua_bán_điện_của_Nhà_máy_thủy_điện_với_Công_ty_điện_lực.docx', 'Mẫu_Hợp_đồng_môi_giới_bất_động_sản.docx', 'Mẫu_Hợp_đồng_nguyên_tắc_về_việc_mua_bán_hàng_hóa.docx', 'Mẫu_Hợp_đồng_nhượng_quyền_thương_mại.docx', 'Mẫu_Hợp_đồng_phát_triển_phần_mềm_song_ngữ.docx', 'Mẫu_Hợp_đồng_phân_phối_hàng_hóa.docx', 'Mẫu_Hợp_đồng_sản_xuất_phần_mềm.docx', 'Mẫu_Hợp_đồng_thiết_kế_–_cung_cấp_thiết_bị_công_nghệ_và_thi_công_xây_dựng_công_trình.docx', 'Mẫu_Hợp_đồng_thuê_nhà_xưởng_song_ngữ.docx', 'Mẫu_Hợp_đồng_thuê_nhà_đất_thuê_bất_động_sản.docx', 'Mẫu_Hợp_đồng_thầu_phụ_xây_dựng.docx', 'Mẫu_Hợp_đồng_thế_chấp_cổ_phần_song_ngữ.docx', 'Mẫu_Hợp_đồng_tư_vấn_thiết_kế.docx', 'Mẫu_Hợp_đồng_vận_chuyển.docx', 'Mẫu_Hợp_đồng__vay_tiền_song_ngữ.docx', 'Mẫu_Hợp_đồng_Đại_diện_Thương_mại_Quốc_tế.docx', 'Mẫu_Hợp_đồng_đại_lý_phân_phối_hàng_hóa.docx', 'Mẫu_Hợp_đồng_ủy_quyền_sử_dụng_nhãn_hiệu.docx', 'Mẫu_Hợp_đồng_ủy_thác_nhập_khẩu.docx', 'Mẫu_Hợp_đồng_ủy_thác_xuất_khẩu.docx']\n"
     ]
    }
   ],
   "source": [
    "import os\n",
    "import docx2txt\n",
    "from generate import InfoGenerator\n",
    "root = \"./docs\"\n",
    "\n",
    "print(files:=os.listdir(root))"
   ]
  },
  {
   "cell_type": "code",
   "execution_count": 12,
   "metadata": {},
   "outputs": [],
   "source": [
    "gen = InfoGenerator()\n",
    "\n",
    "with open(\"doc_text.py\", 'w') as f:\n",
    "    for file in files:\n",
    "        text = docx2txt.process(os.path.join(root, file))\n",
    "\n",
    "        content = f'''{gen.to_non_accent_vietnamese(file.split('.')[0])} = \"\"\"{text}\"\"\"'''\n",
    "        f.write(content)\n",
    "    "
   ]
  },
  {
   "cell_type": "code",
   "execution_count": 15,
   "metadata": {},
   "outputs": [],
   "source": [
    "from docx import Document\n",
    "\n",
    "with open(\"doc_text.py\", 'w') as f:  \n",
    "    for file in files:\n",
    "        doc = Document(os.path.join(root, file))\n",
    "        text = '\\n'.join([paragraph.text for paragraph in doc.paragraphs])\n",
    "        \n",
    "        content = f'''{gen.to_non_accent_vietnamese(file.split('.')[0])} = \"\"\"{text}\"\"\"\\n'''\n",
    "        f.write(content)\n"
   ]
  },
  {
   "cell_type": "code",
   "execution_count": 18,
   "metadata": {},
   "outputs": [
    {
     "name": "stdout",
     "output_type": "stream",
     "text": [
      "CỘNG HOÀ XÃ HỘI CHỦ NGHĨA VIỆT NAM\n",
      "Độc lập - Tự do - Hạnh phúc\n",
      "\n",
      "HỢP ĐỒNG VẬN CHUYỂN\n",
      "Số:   …../HĐVC/………………..\n",
      "Về việc thuê vận chuyển ………………………\n",
      "\t\n",
      "Căn cứ Bộ luật Dân sự được Quốc hội nước Cộng hoà Xã hội chủ nghĩa Việt Nam khoá XIII, kỳ họp thứ 10 thông qua ngày 24 tháng 11 năm 2015, có hiệu lực từ ngày 01 tháng 01 năm 2017;\n",
      "\tCăn cứ vào Luật Thương mại số 36/2005/QH11 đã được Quốc hội nước Cộng hoà Xã hội chủ nghĩa Việt Nam khoá XI, kỳ họp thứ 7 thông qua ngày 14/6/2005;\n",
      "\tCăn cứ vào nhu cầu và khả năng của hai bên, \n",
      "Hôm nay, ngày ......... tháng ............ năm .........., tại ....................., chúng tôi gồm:\n",
      "BÊN A: \n",
      "Địa chỉ\t: \n",
      "Điện thoại\t:  \t\t Fax: \n",
      "Mã số thuế\t: \n",
      "Tài khoản\t: \n",
      "Hoặc Tài khoản  : \n",
      "Đại diện      :\t\t\t\tChức vụ: \n",
      "\n",
      "BÊN B   : …………………….\n",
      "Địa chỉ\t: \n",
      "Điện thoại\t:  \t\t Fax: \n",
      "Mã số thuế\t: \n",
      "Tài khoản\t: \n",
      "Hoặc Tài khoản  : \n",
      "Đại diện      :\t\t\t\tChức vụ: \n",
      "Sau khi thoản thuận hai Bên đồng ý ký kết hợp đồng với các điều khoản sau:\n",
      "Điều 1: Nội dung và giá hợp đồng\n",
      "1.1. Nội dung: Bên A đồng ý thuê và Bên B đồng ý nhận vận chuyển ……………….. Bên B có trách nhiệm nhận hàng và vận chuyển từ ……………… về chân công trình bên A tại ………………….. đúng kỹ thuật theo yêu cầu của bên A.\n",
      "1.2. Đơn giá và giá trị hợp đồng:\n",
      "Đơn giá trên đã bao gồm thuế VAT 10%, lái máy, nhiên liệu và toàn bộ các chi phí khác để bên B vận chuyển hoàn thiện BTNN từ nơi nhận hàng đến địa điểm giao tại chân công trình theo yêu cầu của bên A. \n",
      "Giá trị hợp đồng: Theo giá trị khối lượng nghiệm thu thực tế được các bên xác nhận.\n",
      "Điều2: Thời gian và Phương thức Giao hàng \n",
      "\t- Thời gian thực hiện hợp đồng: Từ ngày hợp đồng có hiệu lực đến khi hoàn thiện công việc theo hợp đồng hoặc khi bên A không có nhu cầu vận chuyển bê tông nhựa. \n",
      "\t- Nơi nhận hàng: ............................................................................................\n",
      "   \t- Nơi giao hàng: ............................................................................................\n",
      "\t- Địa điểm giao hàng: ..................................................................................\n",
      "\t- Thời gian giao hàng: Theo thông báo của bên A (bằng văn bản, hoặc điện thoại, fax, email). Bên A gửi đơn đặt hàng cho Bên B trước tối thiểu 01 ngày. \n",
      "\t- Tiến độ thực hiện: Theo yêu cầu của bên A. Bên B đảm bảo thời gian vận chuyển hàng hóa .............. không quá 60 phút. Nếu vượt quá thời gian trên làm ảnh hưởng tới chất lượng hàng hóa ảnh hưởng tới tiến độ thi công của bên A thì Bên B hoàn toàn chịu trách nhiệm bồi thường thiệt hại cho Bên A theo đúng giá mà bên A đã mua.\n",
      "\t- Tại nơi nhận hàng: Hàng được giao trên phương tiện vận chuyển của Bên B. Hai bên tiến hành ký Biên bản giao nhận hàng hóa. \n",
      "\tTừ thời điểm hàng được giao trên phương tiện vận chuyển của Bên B, Bên B chịu toàn bộ trách nhiệm liên quan tới việc vận chuyển, quản lý, bảo vệ hàng hóa cho tới khi hàng được giao hết tại chân công trình cho Bên A.\n",
      "\t- Tại nơi giao hàng: Khi Bên B vận chuyển hàng tới chân công trình của Bên A. Bên B phải thông báo cho Bên A để Bên A bố trí người tiếp nhận hàng. Sau khi hàng được tập kết xuống chân công trình của Bên A hai bên ký nghiệm thu khối lượng cho từng chuyến làm căn cứ cho việc thanh toán.\n",
      "Điều 3: Tạm ứng và Phương thức thanh toán \n",
      "3.1: Tạm ứng\n",
      "\t* Tạm ứng: Bên A sẽ tạm ứng cho bên B số tiền .............. sau khi hai bên ký kết hợp đồng, bên A nhận được giấy đề nghị tạm ứng, cam kết thực hiện hợp đồng của bên B.\n",
      "\t* Thu hồi tạm ứng:  Bên A thực hiện thu hồi tiền tạm ứng theo từng đợt nghiệm thu thanh toán và thu hồi hết số tiền tạm ứng khi giá trị thanh toán đạt 80% giá trị hợp đồng. Trường hợp Bên B không đáp ứng tiến độ hoặc sử dụng tiền tạm ứng sai mục đích, Bên A sẽ thu hồi tiền tạm ứng trước thời hạn trên.\n",
      "3.2: Phương thức thanh toán\n",
      "- Hình thức thanh toán: Bằng chuyển khoản\n",
      "- Thanh toán: Công tác đối chiếu công nợ được tiến hành vào cuối mỗi tháng. Bên B xuất hoá đơn VAT cho Bên A, Bên A sẽ thanh toán đến .......% giá trị khối lượng được nghiệm thu của tháng trước đó trừ tạm ứng (nếu có) cho Bên B trong vòng 10 ngày làm việc của tháng tiếp theo kể từ ngày nhận được giấy đề nghị thanh toán, hoá đơn tương ứng 100% giá trị khối lượng được nghiệm thu, chứng từ hợp lệ của bên B.\n",
      "- ...........% giá trị còn lại sẽ được bên A quyết toán cho bên B chậm nhất không quá 15 ngày làm việc kể từ ngày bên B hoàn thành việc vận chuyển theo hợp đồng hoặc bên A không có nhu cầu thuê bên B vận chuyển và bên A nhận được Giấy đề nghị thanh toán của bên B.\n",
      "Điều 4: Trách nhiệm của mỗi Bên\n",
      "4.1. Trách nhiệm Bên A:\n",
      "- Thông báo kế hoạch vận chuyển cho bên B trước 12 giờ thực hiện để bên B chuẩn bị phương tiện. Cử cán bộ có trách nhiệm để nhận hàng hóa tại trạm và hướng dẫn xe vận chuyển của bên B trong quá trình vận chuyển và giao hàng. Trường hợp hủy đơn hàng vận chuyển thì phải thông báo cho bên B trước 12 giờ.\n",
      "- Thanh toán đầy đủ cho Bên B theo điều 3 của hợp đồng này khi bên B hoàn thành đầy đủ các nghĩa vụ theo hợp đồng.\n",
      "4.2. Trách nhiệm Bên B:\n",
      "- Chuẩn bị tốt về tình trạng kỹ thuật của vận chuyển theo đề nghị của Bên A.\n",
      "- Bố trí đủ số lượng xe vận chuyển theo yêu cầu của bên A.\n",
      "- Cung cấp cho bên A danh sách xe, tài xế  trước khi vận chuyển BTN.\n",
      "- Lái xe phải có kinh nghiệm, năng lực, đầy đủ giấy phép, giấy tờ hợp lệ điều khiển vận hành phương tiện vận chuyển.\n",
      "- Nhận, vận chuyển, giao hàng theo hướng dẫn và yêu cầu của bên A.\n",
      "\t- Chịu trách nhiệm bố trí hợp lý người, phương tiện vận chuyển, đảm bảo an toàn trong quá trình vận chuyển. \n",
      "\t- Chịu trách nhiệm đối với người, phương tiện và tài sản trong quá trình vận chuyển.\n",
      "\t - Mọi thiệt hại gây ra trong quá trình vận chuyển, tập kết hàng hóa xuống chân công trình của Bên A, Bên B phải chịu trách nhiệm bồi thường toàn bộ thiệt hại.\n",
      "\t- Trong quá trình vận chuyển phải có trách nhiệm bảo vệ tài sản của Bên A. \n",
      "\t- Đảm bảo an toàn hàng hóa trong quá trình vận chuyển. Trường hợp hàng hóa bị mất mát, hư hỏng, bị sự cố va quẹt, bị lật đổ trong quá trình vận chuyển, bị giảm chất lượng do thời gian vận chuyển kéo dài... thì bên B chịu trách nhiệm bồi thường 100% giá trị cho Bên A theo giá hàng hóa mà Bên A đã mua đồng thời bồi thường mọi thiệt hại gây ra cho bên A.\n",
      "\t- Sau khi nhận được thông báo của bên A, Bên B phải sắp xếp, bố trí phương tiện vận chuyển cho Bên A theo đúng giờ bên A đã thông báo. Trường hợp Bên A đã báo trước mà Bên B không bố trí được phương tiện để vận chuyển hàng hóa cho Bên A thì mỗi giờ chậm trễ bên B phải chịu phạt 300.000 đồng/giờ chậm đồng thời bên B phải bồi thường cho bên A toàn bộ chi phí liên quan tới việc chậm trễ trên. Thời gian chậm không quá 02 ngày. Nếu quá thời gian trên mà Bên B không bố trí được phương tiện vận chuyển hoặc vận chuyển không đạt yêu cầu của Bên A thì Bên A có quyền thuê đơn vị khác vận chuyển, giá trị chênh lệnh với bên thứ ba sẽ do bên B chịu trách nhiệm chi trả.\n",
      "\t- Bên B phải luôn chủ động phương tiện vận chuyển đảm bảo số lượng theo yêu cầu của bên A.\n",
      "\t- Xuất hóa đơn thuế GTGT cho bên A chậm nhất là 05 ngày kể từ ngày nghiệm thu khối lượng thực hiện theo từng đơn hàng.\n",
      "\t- Chịu mọi chi phí vận chuyển, chi phí cầu đường, quá tải, quá khổ, chi phí nhiên liệu các loại phục vụ xe vận chuyển của Bên B.\n",
      "\t- Bên B đã nhận tạm ứng của bên A mà vì lý do nào đó không thực hiện hoặc thực hiện không đúng cam kết trong hợp đồng này thì bên B phải hoàn trả toàn bộ số tiền đã nhận của bên A đồng thời bồi thường cho bên A một khoản tương ứng 150% giá trị mà bên A tạm ứng. Toàn bộ số tiền này phải được thanh toán dứt điểm cho bên A trong vòng 03 ngày kể từ ngày nhận được yêu cầu của bên A.\n",
      "Điều 6: Trách nhiệm do vi phạm hợp đồng\n",
      "6.1. Bên nào vi phạm hợp đồng, một mặt phải trả cho bên bị vi phạm tiền phạt vi phạm hợp đồng, mặt khác nếu có thiệt hại xảy ra do lỗi vi phạm hợp đồng dẫn đến như mất mát, hư hỏng, tài sản phải chi phí để ngăn chặn hạn chế thiệt hại do vi phạm gây ra, tiền phạt do vi phạm hợp đồng khác và tiền bồi thường thiệt hại mà bên bị vi phạm đã phải trả cho bên thứ ba là hậu quả trực tiếp của sự vi phạm này gây ra.\n",
      "6.2. Nếu bên A đóng gói hàng mà không khai hoặc khai không đúng sự thật về số lượng, trọng lượng hàng hóa thì bên A phải chịu phạt đến ………. % số tiền cước phải trả cho lô hàng đó.\n",
      "6.3. Nếu bên B có lỗi làm hư hỏng hàng hóa trong quá trình vận chuyển thì:\n",
      "-  Trong trường hợp có thể sửa chữa được nếu bên A đã tiến hành sửa chữa thì bên B phải đài thọ phí tổn.\n",
      "-  Nếu hư hỏng đến mức không còn khả năng sửa chữa thì hai bên thỏa thuận mức bồi thường hoặc nhờ cơ quan chuyên môn giám định và xác nhận tỷ lệ bồi thường.\n",
      "6.4. Nếu bên A vi phạm nghĩa vụ thanh toán tổng cước phí vận chuyển thì phải chịu phạt theo mức lãi suất chậm trả của tín dụng ngân hàng là ……… % ngày (hoặc tháng) tính từ ngày hết hạn thanh toán.\n",
      "6.5. Bên nào đã ký hợp đồng mà không thực hiện hợp đồng hoặc đơn phương đình chỉ thực hiện hợp đồng mà không có lý do chính đáng thì sẽ bị phạt tới ………. % giá trị phần tổng cước phí dự chi.\n",
      "6.6. Nếu hợp đồng này có một bên nào đó gây ra đồng thời nhiều loại vi phạm, thì chỉ phải chịu một loại phạt có số tiền phạt ở mức cao nhất theo các mức phạt mà hai bên đã thỏa thuận trong hợp đồng này, trừ các loại trách hiệm bồi thường khi làm mất mát hoặc hư hỏng hàng hóa lúc vận chuyển.\n",
      "Điều 7. Các trường hợp chấm dứt hợp đồng\n",
      "7.1. Hợp đồng này sẽ được chấm dứt trong các trường hợp sau:\n",
      "a.Hai Bên đã hoàn tất các nghĩa vụ theo Hợp đồng này;\n",
      "b.Hai Bên thỏa thuận chấm dứt Hợp đồng. Trong trường hợp này, việc giải quyết hậu quả của việc chấm dứt Hợp đồng sẽ theo thỏa thuận của Hai Bên;\n",
      "c.Một trong Hai Bên bị giải thể, chấm dứt hoạt động hoặc lâm vào tình trạng phá sản. Trong trường hợp này, việc giải quyết hậu quả của việc chấm dứt Hợp đồng sẽ theo quy định pháp luật về giải thế, phá sản doanh nghiệp;\n",
      "d.Xảy ra sự kiện bất khả kháng như quy định tại Điều 8 Hợp đồng;\n",
      "e. Chấm dứt do một bên vi phạm Hợp đồng. \n",
      "7.2.Việc chấm dứt Hợp đồng này vì bất cứ lý do nào cũng không giải phóng Hai Bên khỏi các nghĩa vụ còn tồn đọng và hoặc các công việc phải thực hiện cũng như bất kỳ trách nhiệm thanh toán, hoàn trả hoặc bồi thường thiệt hại và/hoặc phải chịu phạt vi phạm do vi phạm đã xảy ra trước ngày chấm dứt Hợp đồng.\n",
      "7.3. Trong trường hợp có bất kỳ điều khoản nào của Hợp đồng này bị cơ quan Nhà nước có thẩm quyền hoặc Tòa án có thẩm quyền tuyên bố vô hiệu thì:\n",
      "a.Các điều khoản khác trong Hợp đồng sẽ không bị ảnh hưởng bởi việc tuyên bố vô hiệu đó và vẫn sẽ giữ nguyên hiệu lực và ràng buộc của Hai Bên; và\n",
      "b. Hai Bên sẽ thỏa thuận và thay thế điều khoản mới có hiệu lực theo pháp luật Việt Nam và phù hợp để các lợi ích và quyền lợi của Hai Bên theo Hợp đồng này được đảm bảo;\n",
      "c. Hai Bên thống nhất xử lý trong trường hợp Hợp đồng vô hiệu: […]\n",
      "Điều 8: Sự kiện bất khả kháng\n",
      "8.1. Sự kiện bất khả kháng có nghĩa là những sự kiện nằm ngoài sự kiểm soát của các Bên, không thể lường trước được khiến cho bất cứ Bên nào hoặc cả Hai bên không thể thực hiện nghĩa vụ của mình theo Hợp đồng này: Sự cấm đoán, hành vi hoặc sự trì hoãn của Chính phủ, của chính quyền địa phương; bạo loạn, chiến tranh, tình trạng khẩn cấp của Quốc gia (cho dù có tuyên bố hay không) bạo động hoặc đình công, động đất hoặc các thiện tai khác; Sự thay đổi của chính sách, pháp và tất cả các sự kiện khác nằm ngoài tầm kiểm soát của các Bên (“Sự Kiện Bất Khả Kháng”).\n",
      "8.2. Trường hợp một Bên bị trì hoãn hoặc cản trở thực hiện các nghĩa vụ của mình theo Hợp Đồng do Sự Kiện Bất Khả Kháng (“Bên Bị Ảnh Hưởng”), Bên Bị Ảnh Hưởng phải:\n",
      "(i) thông báo bằng văn bản tới Bên còn lại về Sự Kiện Bất Khả Kháng và những chứng cứ hợp lý của sự kiện này.\n",
      "(ii) gửi thông báo bằng văn bản tới Bên còn lại thông báo về sự trì hoãn hoặc trở ngại này sớm nhất trong khả năng có thể và xác định ngày bắt đầu và mức độ của sự trì hoãn hoặc trở ngại này, nguyên nhân của sự trì hoãn hoặc trở ngại này và thời gian ước tính của sự trì hoãn hoặc trở ngại này.\n",
      "(iii) sử dụng tất cả những nỗ lực hợp lý để giảm thiểu tới mức thấp nhất tác động của sự trì hoãn hoặc trở ngại này đến việc thực hiện các nghĩa vụ theo quy định tại Hợp Đồng này; và\n",
      "(iv) tiếp tục thực hiện các nghĩa vụ của mình sớm nhất có thể sau khi loại bỏ được lý do gây ra sự trì hoãn hoặc trở ngại này.\n",
      "8.3. Khi xảy ra Sự kiện bất khả kháng, thời hạn để thực hiện nghĩa vụ bị chậm trễ do bị ảnh hưởng của Sự kiện bất khả kháng sẽ được kéo dài tương ứng với thời gian tồn tại của Sự kiện bất khả kháng mà Bên chịu ảnh hưởng không thể thực hiện các nghĩa vụ theo Hợp đồng này. Nếu sau ba (03) tháng liên tiếp, kể từ ngày xảy ra Sự kiện bất khả kháng mà Bên chịu ảnh hưởng không thể tiếp tục thực hiện nghĩa vụ của mình thì một trong các bên có quyền chấm dứt và tiến hành thanh lý Hợp đồng này.\n",
      "Điều 9. Thông báo\n",
      "9.1. Bất kỳ thông báo, yêu cầu, thông tin, mọi thay đổi về trách nhiệm, nghĩa vụ và quyền lợi trong các điều khoản đã thỏa thuận, khiếu nại phát sinh liên quan đến Hợp đồng này phải được lập thành văn bản bằng Tiếng Việt và gửi đến các địa chỉ ở phần đầu Hợp đồng này hoặc địa chỉ thay đổi sau này theo thông báo của Hai Bên.\n",
      "9.2. Trong trường hợp không có thỏa thuận khác, tất cả các thông báo sẽ được gửi qua bưu điện hoặc giao trực tiếp. Khi bưu điện không phát thư được vì bất kỳ lý do gì thì Bên thông báo sẽ thông tin cho Bên kia được biết và gửi thông báo bằng fax hoặc thư điện tử cho Bên kia. Trong một số trường hợp đặc biệt khẩn cấp, một trong Hai Bên đồng ý hình thức thông báo cho Bên kia bằng điện thoại trực tiếp.\n",
      "9.3. Hai Bên thống nhất rằng, các thông báo, yêu cầu, thông tin, khiếu nại được coi là đã nhận nếu đúng địa chỉ, đúng tên người nhận, đúng hình thức thông báo theo thỏa thuận tại Khoản 1,2 nêu trên và thời gian được xác định như sau:\n",
      "a.Khi giao trực tiếp: là ngày gửi và có chữ ký của người nhận thông báo;\n",
      "b.Khi gửi qua bưu điện: sau 02 (hai) ngày làm việc kể từ ngày đóng dấu bưu điện đến;\n",
      "c. Khi gửi qua fax: là thời điểm Bên đó nhận được được tín hiệu chuyển fax thành công;\n",
      "d. Trong các trường hợp này, nếu ngày tương ứng rơi vào ngày chủ nhật hoặc ngày lễ của Việt Nam thì các thông báo, yêu cầu, khiếu nại hoặc thư từ giao dịch… nói trên sẽ được xem như bên kia nhận được vào ngày kế tiếp.\n",
      "9.4.Hai Bên phải thông báo bằng văn bản cho nhau biết nếu có đề nghị thay đổi địa chỉ, hình thức, tên người nhận thông báo…Nếu Bên có thay đổi không thông báo lại cho Bên kia biết thì Bên gửi thông báo không chịu trách nhiệm về việc Bên có thay đổi không nhận được các văn bản thông báo.\n",
      "Điều 10. Giải quyết tranh chấp\n",
      "\tMọi tranh chấp liên quan và/hoặc phát sinh từ Hợp Đồng này sẽ được bàn bạc giải quyết trên tinh thần thương lượng, hòa giải giữa Các Bên. Trong trường hợp không thể giải quyết thông qua thương lượng hòa giải, mỗi Bên có thể đưa tranh chấp ra để giải quyết tại Trung tâm Trọng tài Thương mại Miền Trung (MCAC) theo Quy tắc tố tụng trọng tài của Trung tâm này. Địa điểm tiến hành trọng tài tại thành phố Đà Nẵng. Ngôn ngữ dùng trong tố tụng trọng tài là tiếng Việt.  \n",
      "Điều 11. Điều khoản chung\n",
      "11.1. Hợp đồng này được giải thích và hiểu theo pháp luật Việt Nam.\n",
      "11.2.Các bên cam kết thực hiện đúng và đầy đủ tất cả các điều khoản của Hợp đồng. Các điều khoản, nội dung công việc cam kết trong Hợp đồng khi cần có thể được sửa đổi, bổ sung, lập phụ lục thỏa thuận Hợp đồng giữa Hai bên. Bất kỳ sự sửa đổi, bổ sung hoặc lập Phụ lục Hợp đồng phải được lập thành văn bản, có chữ ký của Hai bên và là một bộ phận không thể tách rời của Hợp đồng.\n",
      "11.3 Hợp đồng này có hiệu lực kể từ ngày Hai Bên ký kết. Hợp đồng này là toàn bộ thỏa thuận giữa các bên và thay thế bất kỳ thỏa thuận, cam kết, sắp xếp, thông đạt hoặc diễn đạt ý định nào mà có liên quan đến nội dung Hợp đồng này. Hợp đồng này được xem là kết thúc khi có Biên bản thanh lý Hợp đồng được đại diện hợp pháp của 02 Bên ký kết.\n",
      "11.4.Hợp đồng này được lập thành 04 (bốn) bản tiếng Việt có giá trị pháp lý như nhau; mỗi Bên giữ 02 (hai) bản. \n",
      "11.5. Hợp đồng này được ký bởi đại diện có thẩm quyền của các Bên vào ngày được nêu ở phần đầu.  \n",
      "Điều 12: Các thỏa thuận khác (Nếu có)\n",
      "...................................................................................... \n",
      "\n",
      "ĐẠI DIỆN BÊN A \t\t\t\t\t        ĐẠI DIỆN BÊN B\n",
      "\n",
      "\n",
      "\n",
      "\n",
      "\n",
      "\n",
      "\n",
      "\n",
      "\n",
      "\n",
      "\n",
      "\n",
      "\n"
     ]
    }
   ],
   "source": [
    "from doc_text import *\n",
    "\n",
    "print(Mau_Hop_dong_van_chuyen)"
   ]
  },
  {
   "cell_type": "code",
   "execution_count": 5,
   "metadata": {},
   "outputs": [
    {
     "data": {
      "text/plain": [
       "['Mẫu_Hơp_đồng_dich_vụ_bảo_quản_quản_lý_tài_sản.doc',\n",
       " 'Mẫu_Hợp_đồng_cung_cấp_dịch_vụ_thẩm_định_giá_tài_sản.doc',\n",
       " 'Mẫu_Hợp_đồng_dịch_vụ_bảo_trì_song_ngữ.doc',\n",
       " 'Mẫu_Hợp_đồng_dịch_vụ_marketing_trên_mạng_internet.doc',\n",
       " 'Mẫu_Hợp_đồng_dịch_vụ_quảng_cáo.doc']"
      ]
     },
     "execution_count": 5,
     "metadata": {},
     "output_type": "execute_result"
    }
   ],
   "source": [
    "import os\n",
    "doc_file = [file for file in os.listdir(\"./docs\") if file.endswith('.doc')]\n",
    "not_converted = [file for file in doc_file if f\"{file}x\" not in os.listdir(\"./test\")]\n",
    "\n",
    "not_converted\n"
   ]
  }
 ],
 "metadata": {
  "kernelspec": {
   "display_name": "base",
   "language": "python",
   "name": "python3"
  },
  "language_info": {
   "codemirror_mode": {
    "name": "ipython",
    "version": 3
   },
   "file_extension": ".py",
   "mimetype": "text/x-python",
   "name": "python",
   "nbconvert_exporter": "python",
   "pygments_lexer": "ipython3",
   "version": "3.12.7"
  }
 },
 "nbformat": 4,
 "nbformat_minor": 2
}

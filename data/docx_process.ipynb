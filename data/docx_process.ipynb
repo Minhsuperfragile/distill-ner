{
 "cells": [
  {
   "cell_type": "code",
   "execution_count": null,
   "metadata": {},
   "outputs": [
    {
     "name": "stdout",
     "output_type": "stream",
     "text": [
      "['Mẫu_Hơp_đồng_dich_vụ_an_ninh_.docx', 'Mẫu_Hơp_đồng_dich_vụ_bảo_quản_quản_lý_tài_sản.docx', 'Mẫu_Hơp_đồng_dich_vụ_chăm_sóc_sức_khỏe_song_ngữ.docx', 'Mẫu_Hơp_đồng_dich_vụ_pháp_lý_song_ngữ.docx', 'Mẫu_Hơp_đồng_giao_khoán.docx', 'Mẫu_Hợp_đồng_bảo_trì_bảo_dưỡng_khách_sạn.docx', 'Mẫu_Hợp_đồng_cam_kết_bảo_mật_thông_tin_và_chống_cạnh_tranh.docx', 'Mẫu_Hợp_đồng_cho_thuê_văn_phòng_song_ngữ.docx', 'Mẫu_Hợp_đồng_chuyển_giao_công_nghệ_Song_ngữ.docx', 'Mẫu_Hợp_đồng_chuyển_nhượng_cổ_phần.docx', 'Mẫu_Hợp_đồng_chuyển_nhượng_quyền_tác_giả.docx', 'Mẫu_Hợp_đồng_cung_cấp_dịch_vụ_thẩm_định_giá_tài_sản.docx', 'Mẫu_Hợp_đồng_cung_ứng_Dịch_vụ_Quốc_tế.docx', 'Mẫu_Hợp_đồng_cung_ứng_dịch_vụ_thanh_toán_ví_.docx', 'Mẫu_Hợp_đồng_cố_vấn_đầu_tư_song_ngữ_.docx', 'Mẫu_Hợp_đồng_dịch_vụ_bảo_trì_song_ngữ.docx', 'Mẫu_Hợp_đồng_dịch_vụ_marketing_trên_mạng_internet.docx', 'Mẫu_Hợp_đồng_dịch_vụ_quảng_cáo.docx', 'Mẫu_Hợp_đồng_dịch_vụ_quản_lý_tòa_nhà.docx', 'Mẫu_Hợp_đồng_dịch_vụ_thiết_kế_Website.docx', 'Mẫu_Hợp_đồng_dịch_vụ_tư_vấn_quản_lý_công_ty.docx', 'Mẫu_Hợp_đồng_gia_công_hàng_hóa.docx', 'Mẫu_Hợp_đồng_hợp_tác_góp_vốn_đầu_tư.docx', 'Mẫu_Hợp_đồng_hợp_tác_kinh_doanh.docx', 'Mẫu_Hợp_đồng_hợp_tác_kinh_doanh_thành_lập_doanh_nghiệp.docx', 'Mẫu_Hợp_đồng_kiểm_toán_.docx', 'Mẫu_Hợp_đồng_lao_động_song_ngữ.docx', 'Mẫu_Hợp_đồng_Li-xăng_HĐ_chuyển_giao_quyền_sử_dụng_nhãn_hiệu.docx', 'Mẫu_Hợp_đồng_mua_bán_hàng_hóa.docx', 'Mẫu_Hợp_đồng_mua_bán_hàng_hóa_song_ngữ.docx', 'Mẫu_Hợp_đồng_mua_bán_điện_của_Nhà_máy_thủy_điện_với_Công_ty_điện_lực.docx', 'Mẫu_Hợp_đồng_môi_giới_bất_động_sản.docx', 'Mẫu_Hợp_đồng_nguyên_tắc_về_việc_mua_bán_hàng_hóa.docx', 'Mẫu_Hợp_đồng_nhượng_quyền_thương_mại.docx', 'Mẫu_Hợp_đồng_phát_triển_phần_mềm_song_ngữ.docx', 'Mẫu_Hợp_đồng_phân_phối_hàng_hóa.docx', 'Mẫu_Hợp_đồng_sản_xuất_phần_mềm.docx', 'Mẫu_Hợp_đồng_thiết_kế_–_cung_cấp_thiết_bị_công_nghệ_và_thi_công_xây_dựng_công_trình.docx', 'Mẫu_Hợp_đồng_thuê_nhà_xưởng_song_ngữ.docx', 'Mẫu_Hợp_đồng_thuê_nhà_đất_thuê_bất_động_sản.docx', 'Mẫu_Hợp_đồng_thầu_phụ_xây_dựng.docx', 'Mẫu_Hợp_đồng_thế_chấp_cổ_phần_song_ngữ.docx', 'Mẫu_Hợp_đồng_tư_vấn_thiết_kế.docx', 'Mẫu_Hợp_đồng_vận_chuyển.docx', 'Mẫu_Hợp_đồng__vay_tiền_song_ngữ.docx', 'Mẫu_Hợp_đồng_Đại_diện_Thương_mại_Quốc_tế.docx', 'Mẫu_Hợp_đồng_đại_lý_phân_phối_hàng_hóa.docx', 'Mẫu_Hợp_đồng_ủy_quyền_sử_dụng_nhãn_hiệu.docx', 'Mẫu_Hợp_đồng_ủy_thác_nhập_khẩu.docx', 'Mẫu_Hợp_đồng_ủy_thác_xuất_khẩu.docx']\n"
     ]
    }
   ],
   "source": [
    "import os\n",
    "import docx2txt\n",
    "from generate import InfoGenerator\n",
    "from docx import Document\n",
    "import re\n",
    "\n",
    "def replace_multiple_newlines(text):\n",
    "    return re.sub(r'\\n{2,}', '\\n', text)\n",
    "\n",
    "root = \"./docs\"\n",
    "\n",
    "print(files:=os.listdir(root))"
   ]
  },
  {
   "cell_type": "code",
   "execution_count": null,
   "metadata": {},
   "outputs": [],
   "source": [
    "gen = InfoGenerator()\n",
    "\n",
    "with open(\"new_doc_text.py\", 'w', encoding='utf-8') as f:\n",
    "    for file in files:\n",
    "        text = replace_multiple_newlines(docx2txt.process(os.path.join(root, file)))\n",
    "\n",
    "        content = f'''{gen.to_non_accent_vietnamese(file.split('.')[0])} = \"\"\"{text}\"\"\"\\n'''\n",
    "        f.write(content)\n",
    "    "
   ]
  },
  {
   "cell_type": "code",
   "execution_count": null,
   "metadata": {},
   "outputs": [],
   "source": [
    "with open(\"doc_text.py\", 'w') as f:  \n",
    "    for file in files:\n",
    "        doc = Document(os.path.join(root, file))\n",
    "        text = '\\n'.join([paragraph.text for paragraph in doc.paragraphs])\n",
    "        \n",
    "        content = f'''{gen.to_non_accent_vietnamese(file.split('.')[0])} = \"\"\"{text}\"\"\"\\n'''\n",
    "        f.write(content)"
   ]
  },
  {
   "cell_type": "code",
   "execution_count": null,
   "metadata": {},
   "outputs": [],
   "source": [
    "import new_doc"
   ]
  }
 ],
 "metadata": {
  "kernelspec": {
   "display_name": "base",
   "language": "python",
   "name": "python3"
  },
  "language_info": {
   "codemirror_mode": {
    "name": "ipython",
    "version": 3
   },
   "file_extension": ".py",
   "mimetype": "text/x-python",
   "name": "python",
   "nbconvert_exporter": "python",
   "pygments_lexer": "ipython3",
   "version": "3.12.7"
  }
 },
 "nbformat": 4,
 "nbformat_minor": 2
}

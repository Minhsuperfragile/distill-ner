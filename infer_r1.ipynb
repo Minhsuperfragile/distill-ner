{
 "cells": [
  {
   "cell_type": "code",
   "execution_count": 1,
   "metadata": {},
   "outputs": [],
   "source": [
    "from ollama import chat\n",
    "from ollama import ChatResponse\n",
    "from prompts import *"
   ]
  },
  {
   "cell_type": "markdown",
   "metadata": {},
   "source": [
    "### R1 "
   ]
  },
  {
   "cell_type": "code",
   "execution_count": 4,
   "metadata": {},
   "outputs": [
    {
     "name": "stdout",
     "output_type": "stream",
     "text": [
      "<think>\n",
      "Okay, I need to extract the given information from the provided document. Let me start by looking through each line carefully.\n",
      "\n",
      "First, I see the \"Sales contract No. 20231201\" is there. That might be relevant for the company name or something else, but it's not directly related to extracting the fields listed. \n",
      "\n",
      "The next part says \"Gia Khang Electronics Company Limited.\" That looks like the personal or business name. I'll note that down.\n",
      "\n",
      "Looking at the address: It's located in District 1, Ho Chi Minh City, with the street being 12 Nguyen Hue. So I can extract that as well.\n",
      "\n",
      "For the phone number, it says \"phone number 0901234567.\" That should be straightforward.\n",
      "\n",
      "The email address is mentioned as vanbinh@gmail.com. I'll include that under personal or business email.\n",
      "\n",
      "Now, checking for contract price number: The text states there's a contract worth 50,000,000 VND. Hmm, this doesn't seem to have a numerical value in the format expected. Maybe it should be \"N/A\" since it's not a numeric value?\n",
      "\n",
      "Next, the company registration number is given as 0312345678. That fits under business registration code.\n",
      "\n",
      "The date of birth isn't specified numerically but is listed as July 15, 1985. I'll need to convert this into a string format for consistency.\n",
      "\n",
      "The country code (CCCD) is provided as 079123456789. I should include that in the \"CCCDD\" field.\n",
      "\n",
      "Passport number isn't mentioned anywhere in the document, so it will be \"N/A\".\n",
      "\n",
      "The contract price seems to be a text string but needs to be converted into a numerical format. Since it's 50,000,000 VND, I'll represent that as \"50,000,000\".\n",
      "\n",
      "The license plate number is given as 29A1-12345. That should be included in the license plate information.\n",
      "\n",
      "Lastly, the social insurance number isn't listed; it's missing from this document.\n",
      "\n",
      "Putting all these pieces together, I'll structure the JSON with each field if they're present, using \"N/A\" where they aren't.\n",
      "</think>\n",
      "\n",
      "The extracted information is organized as follows:\n",
      "\n",
      "```json\n",
      "{\n",
      "    \"Name\": {\n",
      "        \"Personal\": \"Gia Khang Electronics Company Limited\",\n",
      "        \"Business\": \"0312345678\"\n",
      "    },\n",
      "    \"Address\": \"12 Nguyen Hue, District 1, Ho Chi Minh City\",\n",
      "    \"Phone number\": \"0901234567\",\n",
      "    \"Email\": \"vanbinh@gmail.com\",\n",
      "    \"Contract price number\": \"N/A\",\n",
      "    \"Business registration code\": \"0312345678\",\n",
      "    \"Date of birth\": \"July 15, 1985\",\n",
      "    \"Tax code\": {\"Personal\": \"8012345678\"},\n",
      "    \"License plate number\": \"29A1-12345\",\n",
      "    \"Social insurance number\": \"N/A\",\n",
      "    \"Bank information\": {\n",
      "        \"Bank account number\": \"00112233445566\",\n",
      "        \"Bank service provider\": \"Vietcombank\"\n",
      "    }\n",
      "}\n",
      "```\n"
     ]
    }
   ],
   "source": [
    "response: ChatResponse = chat(model='deepseek-r1:1.5b', messages=[\n",
    "  {\n",
    "    'role': 'user',\n",
    "    'content': r1_template_en.format(document=test_case_en),\n",
    "  },\n",
    "])\n",
    "\n",
    "print(response.message.content)"
   ]
  },
  {
   "cell_type": "code",
   "execution_count": 3,
   "metadata": {},
   "outputs": [
    {
     "name": "stdout",
     "output_type": "stream",
     "text": [
      "<think>\n",
      "Đầu tiên, tôi xem xét yêu cầu của người dùng. Họ muốn một JSON được tách ra các thông tin sau đó từ document given: titled \"Trien nhân hoặc doanh nghiệp\", location, number phone, location, code, email, etc.\n",
      "\n",
      "Tôi thấy rằng trong document này, information được composite được various fields nhưcaduyenn, phamduong, phim, email, caac, biemnoan, dayinh, php, sinh, phiang, thien, binh, thang, and tanpharm. Chẳng hạn, \"Cá nhân\" là các thông tin về Mr. Nguyen van A.\n",
      "\n",
      "Để xử lý nó tốt hơn, tôi cần xóa các fields không cần thiết và các field như \"Sốpassport\" nếu có trường này không tồn tại trong document. Trong document này, nhưng có field này như \"N/A\", nên tôi sẽ dính non.\n",
      "\n",
      "Cuối cùng, tôi sẽ thêm các phần tử vào JSON theo yêu cầu của người dùng.\n",
      "</think>\n",
      "\n",
      "```json\n",
      "{\n",
      "    \"Tên riêng\": {\n",
      "        \"Cá nhân\": \"Nguyen Van A\",\n",
      "        \"Doanh nghiệp\": \"Công ty TNHH ABC\"\n",
      "    },\n",
      "    \"Địa chỉ\": \"123 đường XYZ, quận Hoàn Kiếm, Hà Nội\",\n",
      "    \"Số điện thoại\": \"0912345678\",\n",
      "    \"Email\": \"vana@gmail.com\",\n",
      "    \"Căn cước công dân (CCCD)\": \"0123456789\",\n",
      "    \"S操纵 phim\": \"0101234567\",\n",
      "    \"Giá tiền hợp đồng\": \"10,000,000\",\n",
      "    \"Mã đăng ký doanh nghiệp\": \"0101234567\",\n",
      "    \"Ngày sinh\": \"01/01/1990\",\n",
      "    \"Mã số thuế\": {\n",
      "            \"Cá nhân\": \"8012345678\",\n",
      "            \"Doanh nghiệp\": \"N/A\"\n",
      "        },\n",
      "        \"Biển số xe\": \"29A1-12345\",\n",
      "        \"Mã số bảoProtected xã hội\": \"1234567890\",\n",
      "        \"Thông tin ngân hàng\": {\n",
      "            \"Số tài khoản\": \"00112233445566\", \n",
      "            \"Ngân hàng\": \"Vietcombank\"\n",
      "        }\n",
      "    }\n",
      "}\n",
      "```\n"
     ]
    }
   ],
   "source": [
    "response: ChatResponse = chat(model='deepseek-r1:1.5b', messages=[\n",
    "  {\n",
    "    'role': 'user',\n",
    "    'content': r1_template_vi.format(document=test_case_vi),\n",
    "  },\n",
    "])\n",
    "\n",
    "print(response.message.content)"
   ]
  },
  {
   "cell_type": "markdown",
   "metadata": {},
   "source": [
    "### Qwen 2.5\n"
   ]
  },
  {
   "cell_type": "code",
   "execution_count": 2,
   "metadata": {},
   "outputs": [
    {
     "name": "stdout",
     "output_type": "stream",
     "text": [
      "Based on the provided document information, here's the extracted data in the specified JSON format:\n",
      "\n",
      "```json\n",
      "{\n",
      "    \"Name\" : {\"Personal\": \"Tran Van Binh\", \"Business\": \"Gia Khang Electronics Company Limited\"},\n",
      "    \"Address\" : \"12 Nguyen Hue, District 1, Ho Chi Minh City\",\n",
      "    \"Phone number\" : \"0901234567\",\n",
      "    \"Email\" : \"vanbinh@gmail.com\",\n",
      "    \"CCCD\" : \"079123456789\",\n",
      "    \"Passport number\" : \"N/A\",\n",
      "    \"Contract price number\": \"50,000,000\",\n",
      "    \"Business registration code\": \"0312345678\",\n",
      "    \"Date of birth: \"07/15/1985\",\n",
      "    \"Tax code\": {\"Personal\": \"N/A\", \"Business\": \"0312345678\"},\n",
      "    \"License plate number\": \"N/A\",\n",
      "    \"Social insurance number\": \"N/A\",\n",
      "    \"Bank information\" : {{\"Bank account number\": \"190387654321\", \"Bank service provider\": \"Techcombank\"}}\n",
      "}\n",
      "```\n",
      "\n",
      "Note: The document does not provide Passport Number, License plate number, Social Insurance Number, or details about the bank account and its service provider for a business. Therefore, they are marked as 'N/A' (Not Available) in the extracted information.\n"
     ]
    }
   ],
   "source": [
    "response: ChatResponse = chat(model='qwen2.5:3b', messages=[\n",
    "  {\n",
    "    'role': 'system',\n",
    "    'content': qwen25_system_prompt_en \n",
    "  },\n",
    "  {\n",
    "    'role': 'user',\n",
    "    'content': qwen25_template_en.format(document = test_case_en),\n",
    "  },\n",
    "])\n",
    "\n",
    "print(response.message.content)"
   ]
  },
  {
   "cell_type": "code",
   "execution_count": 5,
   "metadata": {},
   "outputs": [
    {
     "name": "stdout",
     "output_type": "stream",
     "text": [
      "{\n",
      "    \"Name\" : {\"Personal\": \"Tran Van Binh\", \"Business\": \"Gia Khang Electronics Company Limited\"},\n",
      "    \"Address\" : \"12 Nguyen Hue, District 1, Ho Chi Minh City\",\n",
      "    \"Phone number\" : \"0901234567\",\n",
      "    \"Email\" : \"vanbinh@gmail.com\",\n",
      "    \"CCCD\" : \"079123456789\",\n",
      "    \"Passport number\" : \"N/A\",\n",
      "    \"Contract price number\": \"50,000,000\",\n",
      "    \"Business registration code\": \"0312345678\",\n",
      "    \"Date of birth: \"07/15/1985\",\n",
      "    \"Tax code\": {\"Personal\": \"N/A\", \"Business\": \"0312345678\"},\n",
      "    \"License plate number\": \"N/A\",\n",
      "    \"Social insurance number\": \"N/A\",\n",
      "    \"Bank information\" : {{\"Bank account number\": \"190387654321\", \"Bank service provider\": \"Techcombank\"}}\n",
      "}\n",
      "\n"
     ]
    }
   ],
   "source": [
    "json_response = response.message.content.split(\"```\")[1]\n",
    "print(json_response[5:])"
   ]
  }
 ],
 "metadata": {
  "kernelspec": {
   "display_name": "base",
   "language": "python",
   "name": "python3"
  },
  "language_info": {
   "codemirror_mode": {
    "name": "ipython",
    "version": 3
   },
   "file_extension": ".py",
   "mimetype": "text/x-python",
   "name": "python",
   "nbconvert_exporter": "python",
   "pygments_lexer": "ipython3",
   "version": "3.12.7"
  }
 },
 "nbformat": 4,
 "nbformat_minor": 2
}
